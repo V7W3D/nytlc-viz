{
 "cells": [
  {
   "cell_type": "code",
   "execution_count": 24,
   "metadata": {},
   "outputs": [],
   "source": [
    "import pandas as pd\n",
    "import geopandas as gpd"
   ]
  },
  {
   "cell_type": "code",
   "execution_count": 25,
   "metadata": {},
   "outputs": [],
   "source": [
    "shapefile_path = \"../Data/taxi_zones/taxi_zones.shp\"\n",
    "taxi_zones = gpd.read_file(shapefile_path)"
   ]
  },
  {
   "cell_type": "code",
   "execution_count": 26,
   "metadata": {},
   "outputs": [],
   "source": [
    "lookup_zones = pd.read_csv(\"../Data/taxi_zone_lookup.csv\")\n",
    "lookup_zones.drop([263, 264], inplace=True)"
   ]
  },
  {
   "cell_type": "code",
   "execution_count": 27,
   "metadata": {},
   "outputs": [
    {
     "data": {
      "text/plain": [
       "LocationID       int64\n",
       "Borough         object\n",
       "Zone            object\n",
       "service_zone    object\n",
       "dtype: object"
      ]
     },
     "execution_count": 27,
     "metadata": {},
     "output_type": "execute_result"
    }
   ],
   "source": [
    "lookup_zones.dtypes"
   ]
  },
  {
   "cell_type": "code",
   "execution_count": 28,
   "metadata": {},
   "outputs": [
    {
     "data": {
      "text/html": [
       "<div>\n",
       "<style scoped>\n",
       "    .dataframe tbody tr th:only-of-type {\n",
       "        vertical-align: middle;\n",
       "    }\n",
       "\n",
       "    .dataframe tbody tr th {\n",
       "        vertical-align: top;\n",
       "    }\n",
       "\n",
       "    .dataframe thead th {\n",
       "        text-align: right;\n",
       "    }\n",
       "</style>\n",
       "<table border=\"1\" class=\"dataframe\">\n",
       "  <thead>\n",
       "    <tr style=\"text-align: right;\">\n",
       "      <th></th>\n",
       "      <th>OBJECTID</th>\n",
       "      <th>Shape_Leng</th>\n",
       "      <th>Shape_Area</th>\n",
       "      <th>zone</th>\n",
       "      <th>LocationID</th>\n",
       "      <th>borough</th>\n",
       "      <th>geometry</th>\n",
       "    </tr>\n",
       "  </thead>\n",
       "  <tbody>\n",
       "    <tr>\n",
       "      <th>102</th>\n",
       "      <td>103</td>\n",
       "      <td>0.014306</td>\n",
       "      <td>0.000006</td>\n",
       "      <td>Governor's Island/Ellis Island/Liberty Island</td>\n",
       "      <td>103</td>\n",
       "      <td>Manhattan</td>\n",
       "      <td>POLYGON ((972079.575 190732.429, 972184.766 19...</td>\n",
       "    </tr>\n",
       "    <tr>\n",
       "      <th>103</th>\n",
       "      <td>104</td>\n",
       "      <td>0.021221</td>\n",
       "      <td>0.000012</td>\n",
       "      <td>Governor's Island/Ellis Island/Liberty Island</td>\n",
       "      <td>103</td>\n",
       "      <td>Manhattan</td>\n",
       "      <td>POLYGON ((973172.666 194632.348, 973310.63 194...</td>\n",
       "    </tr>\n",
       "    <tr>\n",
       "      <th>104</th>\n",
       "      <td>105</td>\n",
       "      <td>0.077425</td>\n",
       "      <td>0.000369</td>\n",
       "      <td>Governor's Island/Ellis Island/Liberty Island</td>\n",
       "      <td>103</td>\n",
       "      <td>Manhattan</td>\n",
       "      <td>POLYGON ((979605.759 191880.575, 979978.435 19...</td>\n",
       "    </tr>\n",
       "  </tbody>\n",
       "</table>\n",
       "</div>"
      ],
      "text/plain": [
       "     OBJECTID  Shape_Leng  Shape_Area  \\\n",
       "102       103    0.014306    0.000006   \n",
       "103       104    0.021221    0.000012   \n",
       "104       105    0.077425    0.000369   \n",
       "\n",
       "                                              zone  LocationID    borough  \\\n",
       "102  Governor's Island/Ellis Island/Liberty Island         103  Manhattan   \n",
       "103  Governor's Island/Ellis Island/Liberty Island         103  Manhattan   \n",
       "104  Governor's Island/Ellis Island/Liberty Island         103  Manhattan   \n",
       "\n",
       "                                              geometry  \n",
       "102  POLYGON ((972079.575 190732.429, 972184.766 19...  \n",
       "103  POLYGON ((973172.666 194632.348, 973310.63 194...  \n",
       "104  POLYGON ((979605.759 191880.575, 979978.435 19...  "
      ]
     },
     "execution_count": 28,
     "metadata": {},
     "output_type": "execute_result"
    }
   ],
   "source": [
    "taxi_zones[taxi_zones[\"LocationID\"] == 103]"
   ]
  },
  {
   "cell_type": "code",
   "execution_count": 29,
   "metadata": {},
   "outputs": [],
   "source": [
    "taxi_zones = taxi_zones[['OBJECTID', 'geometry']]"
   ]
  },
  {
   "cell_type": "code",
   "execution_count": 30,
   "metadata": {},
   "outputs": [],
   "source": [
    "taxi_zones = taxi_zones.merge(lookup_zones[['LocationID', 'Zone']], left_on='OBJECTID' ,right_on='LocationID', how='left')"
   ]
  },
  {
   "cell_type": "code",
   "execution_count": 32,
   "metadata": {},
   "outputs": [],
   "source": [
    "taxi_zones.drop(columns=['LocationID'], inplace=True)"
   ]
  },
  {
   "cell_type": "code",
   "execution_count": 34,
   "metadata": {},
   "outputs": [
    {
     "name": "stdout",
     "output_type": "stream",
     "text": [
      "<class 'geopandas.geodataframe.GeoDataFrame'>\n",
      "RangeIndex: 263 entries, 0 to 262\n",
      "Data columns (total 3 columns):\n",
      " #   Column    Non-Null Count  Dtype   \n",
      "---  ------    --------------  -----   \n",
      " 0   OBJECTID  263 non-null    int32   \n",
      " 1   geometry  263 non-null    geometry\n",
      " 2   Zone      263 non-null    object  \n",
      "dtypes: geometry(1), int32(1), object(1)\n",
      "memory usage: 5.3+ KB\n"
     ]
    }
   ],
   "source": [
    "taxi_zones.info()"
   ]
  },
  {
   "cell_type": "code",
   "execution_count": 35,
   "metadata": {},
   "outputs": [],
   "source": [
    "taxi_zones.to_file(\"../Data/taxi_zones_final.shp\", driver='ESRI Shapefile')"
   ]
  }
 ],
 "metadata": {
  "kernelspec": {
   "display_name": "Python 3",
   "language": "python",
   "name": "python3"
  },
  "language_info": {
   "codemirror_mode": {
    "name": "ipython",
    "version": 3
   },
   "file_extension": ".py",
   "mimetype": "text/x-python",
   "name": "python",
   "nbconvert_exporter": "python",
   "pygments_lexer": "ipython3",
   "version": "3.10.12"
  }
 },
 "nbformat": 4,
 "nbformat_minor": 2
}
